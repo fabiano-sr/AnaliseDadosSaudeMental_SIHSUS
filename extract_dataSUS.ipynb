{
 "cells": [
  {
   "cell_type": "markdown",
   "metadata": {},
   "source": [
    "### Bibliotecas"
   ]
  },
  {
   "cell_type": "code",
   "execution_count": 13,
   "metadata": {},
   "outputs": [],
   "source": [
    "import docker\n",
    "import os"
   ]
  },
  {
   "cell_type": "markdown",
   "metadata": {},
   "source": [
    "### Criar Ambiente Docker\n",
    "_(Caso a imagem já esteja criada no Docker, não é necessário criar novamente.)_"
   ]
  },
  {
   "cell_type": "markdown",
   "metadata": {},
   "source": [
    "#### Criação Dockerfile"
   ]
  },
  {
   "cell_type": "code",
   "execution_count": 2,
   "metadata": {},
   "outputs": [
    {
     "name": "stdout",
     "output_type": "stream",
     "text": [
      "Dockerfile criado!\n"
     ]
    }
   ],
   "source": [
    "dockerfile_content = \"\"\"\n",
    "FROM python:3.12\n",
    "\n",
    "# Defina o diretório de trabalho\n",
    "WORKDIR /pysus_extract\n",
    "\n",
    "# Instalar as dependências\n",
    "RUN pip install --no-cache-dir pysus==0.15.0 pyarrow\n",
    "\n",
    "# Comando padrão (opcional, pode ser ajustado conforme a necessidade)\n",
    "CMD [\"python\", \"script.py\"]\n",
    "\"\"\"\n",
    "\n",
    "with open(\"Dockerfile\", \"w\") as file:\n",
    "    file.write(dockerfile_content)\n",
    "\n",
    "print(\"Dockerfile criado!\")"
   ]
  },
  {
   "cell_type": "markdown",
   "metadata": {},
   "source": [
    "#### Criação da Imagem"
   ]
  },
  {
   "cell_type": "code",
   "execution_count": 19,
   "metadata": {},
   "outputs": [],
   "source": [
    "# Criar cliente Docker\n",
    "client = docker.from_env()\n",
    "\n",
    "# Caminho para o diretório que contém o Dockerfile\n",
    "path = \".\"\n",
    "\n",
    "# Construir a imagem Docker com o nome \"extract_from_datasus\"\n",
    "image, logs = client.images.build(path=path, tag=\"extract_from_datasus\")"
   ]
  },
  {
   "cell_type": "markdown",
   "metadata": {},
   "source": [
    "### Extração dos Dados"
   ]
  },
  {
   "cell_type": "markdown",
   "metadata": {},
   "source": [
    "#### Script da Extração"
   ]
  },
  {
   "cell_type": "code",
   "execution_count": 23,
   "metadata": {},
   "outputs": [],
   "source": [
    "ano = [2019, 2020, 2021, 2022, 2023, 2024]\n",
    "mes = [1, 2, 3, 4, 5, 6, 7, 8, 9, 10, 11, 12]\n",
    "estado = ['SP']\n",
    "grupo = ['RD']\n",
    "diagnosticos = ('F31', 'F32', 'F19', 'F2')"
   ]
  },
  {
   "cell_type": "code",
   "execution_count": 24,
   "metadata": {},
   "outputs": [],
   "source": [
    "\n",
    "settings = f\"\"\"\n",
    "import os\n",
    "import pandas as pd\n",
    "from pysus import SIH\n",
    "\n",
    "output_directory = \"/pysus_extract/raw_data\"\n",
    "\n",
    "if not os.path.exists(output_directory):\n",
    "    os.makedirs(output_directory)\n",
    "\n",
    "ano = {ano}\n",
    "mes = {mes}\n",
    "estado = {estado}\n",
    "grupo = {grupo}\n",
    "diagnosticos = {diagnosticos}\n",
    "\n",
    "\"\"\"\n",
    "\n",
    "functions = \"\"\"\n",
    "sih = SIH().load() # Loads the files from DATASUS\n",
    "files = sih.get_files(group=grupo, uf=estado, year=ano, month=mes)\n",
    "print(files)\n",
    "\n",
    "def load_data(files, output_diretory):\n",
    "  for file in files:\n",
    "    parquet = sih.download(file)\n",
    "    df = parquet.to_dataframe()\n",
    "    df = df[df.apply(get_cid, axis=1)]\n",
    "    file_name = str(file).split('.dbc')[0]\n",
    "    output_file = os.path.join(output_diretory, f'{file_name}.parquet')\n",
    "    df.to_parquet(output_file)\n",
    "\n",
    "def get_cid(lancamento):\n",
    "    cid_principal = str(lancamento['DIAG_PRINC'])\n",
    "    if pd.notna(cid_principal) and cid_principal.startswith(diagnosticos):\n",
    "        return True\n",
    "    return False\n",
    "load_data(files, output_directory)\n",
    "\"\"\"\n",
    "\n",
    "extract_script = settings + functions\n",
    "\n",
    "with open(\"script.py\", \"w\") as file:\n",
    "    file.write(extract_script)"
   ]
  },
  {
   "cell_type": "markdown",
   "metadata": {},
   "source": [
    "#### Execussão Script no Docker"
   ]
  },
  {
   "cell_type": "code",
   "execution_count": 25,
   "metadata": {},
   "outputs": [
    {
     "name": "stdout",
     "output_type": "stream",
     "text": [
      "[RDSP1901.dbc, RDSP1902.dbc, RDSP1903.dbc, RDSP1904.dbc, RDSP1905.dbc, RDSP1906.dbc, RDSP1907.dbc, RDSP1908.dbc, RDSP1909.dbc, RDSP1910.dbc, RDSP1911.dbc, RDSP1912.dbc, RDSP2001.dbc, RDSP2002.dbc, RDSP2003.dbc, RDSP2004.dbc, RDSP2005.dbc, RDSP2006.dbc, RDSP2007.dbc, RDSP2008.dbc, RDSP2009.dbc, RDSP2010.dbc, RDSP2011.dbc, RDSP2012.dbc, RDSP2101.dbc, RDSP2102.dbc, RDSP2103.dbc, RDSP2104.dbc, RDSP2105.dbc, RDSP2106.dbc, RDSP2107.dbc, RDSP2108.dbc, RDSP2109.dbc, RDSP2110.dbc, RDSP2111.dbc, RDSP2112.dbc, RDSP2201.dbc, RDSP2202.dbc, RDSP2203.dbc, RDSP2204.dbc, RDSP2205.dbc, RDSP2206.dbc, RDSP2207.dbc, RDSP2208.dbc, RDSP2209.dbc, RDSP2210.dbc, RDSP2211.dbc, RDSP2212.dbc, RDSP2301.dbc, RDSP2302.dbc, RDSP2303.dbc, RDSP2304.dbc, RDSP2305.dbc, RDSP2306.dbc, RDSP2307.dbc, RDSP2308.dbc, RDSP2309.dbc, RDSP2310.dbc, RDSP2311.dbc, RDSP2312.dbc, RDSP2401.dbc, RDSP2402.dbc, RDSP2403.dbc, RDSP2404.dbc, RDSP2405.dbc, RDSP2406.dbc, RDSP2407.dbc, RDSP2408.dbc, RDSP2409.dbc, RDSP2410.dbc, RDSP2411.dbc, RDSP2412.dbc]\n",
      "\n"
     ]
    }
   ],
   "source": [
    "client = docker.from_env()\n",
    "\n",
    "path_origin = os.getcwd()\n",
    "\n",
    "path_output = os.path.join(path_origin, 'raw_data')\n",
    "\n",
    "# Definir o comando para rodar o container\n",
    "container = client.containers.run(\n",
    "    \"extract_from_datasus\",  # nome da imagem\n",
    "    \"python /pysus_extract/script.py\",  # comando que será executado no container\n",
    "    volumes={\n",
    "        path_origin: {'bind': '/pysus_extract', 'mode': 'rw'},\n",
    "        path_output: {'bind': '/pysus_extract/raw_data', 'mode': 'rw'},  # mapeamento do diretório raw_data  # mapeamento de volume\n",
    "    },\n",
    "    working_dir='/pysus_extract',  # Diretório de trabalho\n",
    "    remove=True,  # Remover o container após a execução\n",
    ")\n",
    "\n",
    "# Exibir a saída\n",
    "print(container.decode())\n"
   ]
  },
  {
   "cell_type": "code",
   "execution_count": null,
   "metadata": {},
   "outputs": [],
   "source": []
  }
 ],
 "metadata": {
  "kernelspec": {
   "display_name": "base",
   "language": "python",
   "name": "python3"
  },
  "language_info": {
   "codemirror_mode": {
    "name": "ipython",
    "version": 3
   },
   "file_extension": ".py",
   "mimetype": "text/x-python",
   "name": "python",
   "nbconvert_exporter": "python",
   "pygments_lexer": "ipython3",
   "version": "3.12.7"
  }
 },
 "nbformat": 4,
 "nbformat_minor": 2
}
